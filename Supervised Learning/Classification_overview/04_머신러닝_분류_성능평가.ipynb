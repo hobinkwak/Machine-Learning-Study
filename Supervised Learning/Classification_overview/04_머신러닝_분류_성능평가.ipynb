{
 "cells": [
  {
   "cell_type": "code",
   "execution_count": 1,
   "metadata": {},
   "outputs": [],
   "source": [
    "plt.rcParams['font.family']='NanumGothic'\n",
    "import warnings\n",
    "warnings.simplefilter('ignore')"
   ]
  },
  {
   "cell_type": "markdown",
   "metadata": {},
   "source": [
    "# Confusion Matrix"
   ]
  },
  {
   "cell_type": "code",
   "execution_count": 2,
   "metadata": {},
   "outputs": [],
   "source": [
    "from sklearn.metrics import confusion_matrix\n",
    "from sklearn.metrics import classification_report\n",
    "from sklearn.metrics import precision_score, accuracy_score, recall_score, f1_score\n",
    "y_true = [2,0,2,2,0,1]\n",
    "y_pred = [0,0,2,2,0,2]"
   ]
  },
  {
   "cell_type": "code",
   "execution_count": 3,
   "metadata": {},
   "outputs": [
    {
     "data": {
      "text/plain": [
       "array([[2, 0, 0],\n",
       "       [0, 0, 1],\n",
       "       [1, 0, 2]], dtype=int64)"
      ]
     },
     "execution_count": 3,
     "metadata": {},
     "output_type": "execute_result"
    }
   ],
   "source": [
    "confusion_matrix(y_true, y_pred)"
   ]
  },
  {
   "cell_type": "code",
   "execution_count": 4,
   "metadata": {},
   "outputs": [
    {
     "data": {
      "text/plain": [
       "array([[2, 0, 1],\n",
       "       [1, 0, 0],\n",
       "       [0, 0, 2]], dtype=int64)"
      ]
     },
     "execution_count": 4,
     "metadata": {},
     "output_type": "execute_result"
    }
   ],
   "source": [
    "confusion_matrix(y_true, y_pred, labels=[2,1,0])"
   ]
  },
  {
   "cell_type": "code",
   "execution_count": 5,
   "metadata": {},
   "outputs": [
    {
     "data": {
      "text/plain": [
       "array([[2, 0],\n",
       "       [1, 3]], dtype=int64)"
      ]
     },
     "execution_count": 5,
     "metadata": {},
     "output_type": "execute_result"
    }
   ],
   "source": [
    "y_true = [1,0,1,1,0,1]\n",
    "y_pred = [0,0,1,1,0,1]\n",
    "confusion_matrix(y_true, y_pred)"
   ]
  },
  {
   "cell_type": "code",
   "execution_count": 6,
   "metadata": {},
   "outputs": [
    {
     "data": {
      "text/plain": [
       "array([[3, 1],\n",
       "       [0, 2]], dtype=int64)"
      ]
     },
     "execution_count": 6,
     "metadata": {},
     "output_type": "execute_result"
    }
   ],
   "source": [
    "confusion_matrix(y_true, y_pred, labels=[1,0])"
   ]
  },
  {
   "cell_type": "code",
   "execution_count": 7,
   "metadata": {},
   "outputs": [
    {
     "name": "stdout",
     "output_type": "stream",
     "text": [
      "정밀도 1.0\n",
      "정확도 0.8333333333333334\n",
      "재현율 0.75\n",
      "f1_score 0.8571428571428571\n",
      "              precision    recall  f1-score   support\n",
      "\n",
      "           0       0.67      1.00      0.80         2\n",
      "           1       1.00      0.75      0.86         4\n",
      "\n",
      "    accuracy                           0.83         6\n",
      "   macro avg       0.83      0.88      0.83         6\n",
      "weighted avg       0.89      0.83      0.84         6\n",
      "\n"
     ]
    }
   ],
   "source": [
    "print('정밀도', precision_score(y_true, y_pred))\n",
    "print('정확도', accuracy_score(y_true, y_pred))\n",
    "print('재현율', recall_score(y_true, y_pred))\n",
    "print('f1_score', f1_score(y_true, y_pred))\n",
    "print(classification_report(y_true, y_pred))"
   ]
  },
  {
   "cell_type": "markdown",
   "metadata": {},
   "source": [
    "# ROC 커브"
   ]
  },
  {
   "cell_type": "code",
   "execution_count": 8,
   "metadata": {},
   "outputs": [
    {
     "data": {
      "text/html": [
       "<div>\n",
       "<style scoped>\n",
       "    .dataframe tbody tr th:only-of-type {\n",
       "        vertical-align: middle;\n",
       "    }\n",
       "\n",
       "    .dataframe tbody tr th {\n",
       "        vertical-align: top;\n",
       "    }\n",
       "\n",
       "    .dataframe thead th {\n",
       "        text-align: right;\n",
       "    }\n",
       "</style>\n",
       "<table border=\"1\" class=\"dataframe\">\n",
       "  <thead>\n",
       "    <tr style=\"text-align: right;\">\n",
       "      <th></th>\n",
       "      <th>f</th>\n",
       "      <th>y_hat</th>\n",
       "      <th>y</th>\n",
       "    </tr>\n",
       "  </thead>\n",
       "  <tbody>\n",
       "    <tr>\n",
       "      <th>0</th>\n",
       "      <td>2.751874</td>\n",
       "      <td>1.0</td>\n",
       "      <td>1.0</td>\n",
       "    </tr>\n",
       "    <tr>\n",
       "      <th>1</th>\n",
       "      <td>2.407202</td>\n",
       "      <td>1.0</td>\n",
       "      <td>1.0</td>\n",
       "    </tr>\n",
       "    <tr>\n",
       "      <th>2</th>\n",
       "      <td>1.803245</td>\n",
       "      <td>1.0</td>\n",
       "      <td>1.0</td>\n",
       "    </tr>\n",
       "    <tr>\n",
       "      <th>3</th>\n",
       "      <td>1.516793</td>\n",
       "      <td>1.0</td>\n",
       "      <td>1.0</td>\n",
       "    </tr>\n",
       "    <tr>\n",
       "      <th>4</th>\n",
       "      <td>1.006605</td>\n",
       "      <td>1.0</td>\n",
       "      <td>0.0</td>\n",
       "    </tr>\n",
       "    <tr>\n",
       "      <th>5</th>\n",
       "      <td>0.904104</td>\n",
       "      <td>1.0</td>\n",
       "      <td>1.0</td>\n",
       "    </tr>\n",
       "    <tr>\n",
       "      <th>6</th>\n",
       "      <td>0.853996</td>\n",
       "      <td>1.0</td>\n",
       "      <td>1.0</td>\n",
       "    </tr>\n",
       "    <tr>\n",
       "      <th>7</th>\n",
       "      <td>0.473976</td>\n",
       "      <td>1.0</td>\n",
       "      <td>1.0</td>\n",
       "    </tr>\n",
       "    <tr>\n",
       "      <th>8</th>\n",
       "      <td>0.461573</td>\n",
       "      <td>1.0</td>\n",
       "      <td>1.0</td>\n",
       "    </tr>\n",
       "    <tr>\n",
       "      <th>9</th>\n",
       "      <td>-0.985712</td>\n",
       "      <td>0.0</td>\n",
       "      <td>0.0</td>\n",
       "    </tr>\n",
       "    <tr>\n",
       "      <th>10</th>\n",
       "      <td>-1.119116</td>\n",
       "      <td>0.0</td>\n",
       "      <td>0.0</td>\n",
       "    </tr>\n",
       "    <tr>\n",
       "      <th>11</th>\n",
       "      <td>-1.148153</td>\n",
       "      <td>0.0</td>\n",
       "      <td>0.0</td>\n",
       "    </tr>\n",
       "    <tr>\n",
       "      <th>12</th>\n",
       "      <td>-1.590517</td>\n",
       "      <td>0.0</td>\n",
       "      <td>0.0</td>\n",
       "    </tr>\n",
       "    <tr>\n",
       "      <th>13</th>\n",
       "      <td>-2.463224</td>\n",
       "      <td>0.0</td>\n",
       "      <td>0.0</td>\n",
       "    </tr>\n",
       "    <tr>\n",
       "      <th>14</th>\n",
       "      <td>-2.614489</td>\n",
       "      <td>0.0</td>\n",
       "      <td>0.0</td>\n",
       "    </tr>\n",
       "    <tr>\n",
       "      <th>15</th>\n",
       "      <td>-4.255919</td>\n",
       "      <td>0.0</td>\n",
       "      <td>0.0</td>\n",
       "    </tr>\n",
       "  </tbody>\n",
       "</table>\n",
       "</div>"
      ],
      "text/plain": [
       "           f  y_hat    y\n",
       "0   2.751874    1.0  1.0\n",
       "1   2.407202    1.0  1.0\n",
       "2   1.803245    1.0  1.0\n",
       "3   1.516793    1.0  1.0\n",
       "4   1.006605    1.0  0.0\n",
       "5   0.904104    1.0  1.0\n",
       "6   0.853996    1.0  1.0\n",
       "7   0.473976    1.0  1.0\n",
       "8   0.461573    1.0  1.0\n",
       "9  -0.985712    0.0  0.0\n",
       "10 -1.119116    0.0  0.0\n",
       "11 -1.148153    0.0  0.0\n",
       "12 -1.590517    0.0  0.0\n",
       "13 -2.463224    0.0  0.0\n",
       "14 -2.614489    0.0  0.0\n",
       "15 -4.255919    0.0  0.0"
      ]
     },
     "execution_count": 8,
     "metadata": {},
     "output_type": "execute_result"
    }
   ],
   "source": [
    "from sklearn.datasets import make_classification\n",
    "from sklearn.linear_model import LogisticRegression\n",
    "\n",
    "X, y = make_classification(n_samples=16, n_features=2, n_informative=2, n_redundant=0,\n",
    "                          random_state=5)\n",
    "model = LogisticRegression().fit(X,y)\n",
    "y_hat = model.predict(X)\n",
    "f_value = model.decision_function(X)\n",
    "\n",
    "df = pd.DataFrame(np.vstack([f_value, y_hat, y]).T, columns=['f','y_hat','y'])\n",
    "df.sort_values(by=['f'], ascending=False).reset_index(drop=True)"
   ]
  },
  {
   "cell_type": "code",
   "execution_count": 9,
   "metadata": {},
   "outputs": [
    {
     "data": {
      "text/plain": [
       "array([[8, 0],\n",
       "       [1, 7]], dtype=int64)"
      ]
     },
     "execution_count": 9,
     "metadata": {},
     "output_type": "execute_result"
    }
   ],
   "source": [
    "confusion_matrix(y, y_hat, labels=[1,0])"
   ]
  },
  {
   "cell_type": "code",
   "execution_count": 10,
   "metadata": {},
   "outputs": [
    {
     "data": {
      "text/plain": [
       "0.875"
      ]
     },
     "execution_count": 10,
     "metadata": {},
     "output_type": "execute_result"
    }
   ],
   "source": [
    "# 0 클래스의 recall_score\n",
    "recall_score(y, y_hat, pos_label=0)"
   ]
  },
  {
   "cell_type": "code",
   "execution_count": 11,
   "metadata": {},
   "outputs": [
    {
     "data": {
      "text/plain": [
       "1.0"
      ]
     },
     "execution_count": 11,
     "metadata": {},
     "output_type": "execute_result"
    }
   ],
   "source": [
    "# 1 클래스의 recall_score  (default)\n",
    "recall_score(y, y_hat, pos_label=1)"
   ]
  },
  {
   "cell_type": "code",
   "execution_count": 12,
   "metadata": {},
   "outputs": [
    {
     "data": {
      "text/plain": [
       "(array([0.   , 0.   , 0.   , 0.125, 0.125, 1.   ]),\n",
       " array([0.   , 0.125, 0.5  , 0.5  , 1.   , 1.   ]),\n",
       " array([ 3.75187372,  2.75187372,  1.51679294,  1.00660512,  0.46157294,\n",
       "        -4.25591926]))"
      ]
     },
     "execution_count": 12,
     "metadata": {},
     "output_type": "execute_result"
    }
   ],
   "source": [
    "from sklearn.metrics import roc_curve\n",
    "\n",
    "fpr, tpr, thresholds = roc_curve(y, model.decision_function(X))\n",
    "fpr, tpr, thresholds"
   ]
  },
  {
   "cell_type": "code",
   "execution_count": 13,
   "metadata": {},
   "outputs": [
    {
     "data": {
      "text/plain": [
       "(array([0.   , 0.   , 0.   , 0.125, 0.125, 1.   ]),\n",
       " array([0.   , 0.125, 0.5  , 0.5  , 1.   , 1.   ]),\n",
       " array([1.94001908, 0.94001908, 0.82006574, 0.73235524, 0.61338725,\n",
       "        0.01398179]))"
      ]
     },
     "execution_count": 13,
     "metadata": {},
     "output_type": "execute_result"
    }
   ],
   "source": [
    "fpr, tpr, thresholds = roc_curve(y, model.predict_proba(X)[:,1])\n",
    "fpr, tpr, thresholds"
   ]
  },
  {
   "cell_type": "code",
   "execution_count": 14,
   "metadata": {},
   "outputs": [
    {
     "data": {
      "text/plain": [
       "[<matplotlib.lines.Line2D at 0x20329c4a280>]"
      ]
     },
     "execution_count": 14,
     "metadata": {},
     "output_type": "execute_result"
    },
    {
     "data": {
      "image/png": "[encoded data removed]",
      "text/plain": [
       "<Figure size 432x288 with 1 Axes>"
      ]
     },
     "metadata": {
      "image/png": {
       "height": 251,
       "width": 375
      }
     },
     "output_type": "display_data"
    }
   ],
   "source": [
    "plt.plot(fpr, tpr, 'o-', label='LogisticRegression')\n",
    "plt.plot([0,1], [0,1], 'k--')"
   ]
  },
  {
   "cell_type": "markdown",
   "metadata": {},
   "source": [
    "- 재현율, 정밀도 등의 성능이 동일한 모형에서도 ROC 커브에서 살펴보면 성능이 달라지는 것을 볼 수 있다."
   ]
  },
  {
   "cell_type": "code",
   "execution_count": 15,
   "metadata": {},
   "outputs": [],
   "source": [
    "from sklearn.svm import SVC\n",
    "\n",
    "X, y = make_classification(n_samples= 1000, weights=[0.95, 0.05], random_state=5)\n",
    "model1 = LogisticRegression().fit(X,y)\n",
    "model2 = SVC(gamma=0.0001, C=3000, probability=True).fit(X,y)\n",
    "\n",
    "y_hat1 = model1.predict(X)\n",
    "y_hat2 = model2.predict(X)"
   ]
  },
  {
   "cell_type": "code",
   "execution_count": 16,
   "metadata": {},
   "outputs": [
    {
     "data": {
      "text/plain": [
       "array([[940,   3],\n",
       "       [ 30,  27]], dtype=int64)"
      ]
     },
     "execution_count": 16,
     "metadata": {},
     "output_type": "execute_result"
    }
   ],
   "source": [
    "confusion_matrix(y, y_hat1)"
   ]
  },
  {
   "cell_type": "code",
   "execution_count": 17,
   "metadata": {},
   "outputs": [
    {
     "data": {
      "text/plain": [
       "array([[940,   3],\n",
       "       [ 30,  27]], dtype=int64)"
      ]
     },
     "execution_count": 17,
     "metadata": {},
     "output_type": "execute_result"
    }
   ],
   "source": [
    "confusion_matrix(y, y_hat2)"
   ]
  },
  {
   "cell_type": "code",
   "execution_count": 18,
   "metadata": {},
   "outputs": [
    {
     "name": "stdout",
     "output_type": "stream",
     "text": [
      "              precision    recall  f1-score   support\n",
      "\n",
      "           0       0.97      1.00      0.98       943\n",
      "           1       0.90      0.47      0.62        57\n",
      "\n",
      "    accuracy                           0.97      1000\n",
      "   macro avg       0.93      0.74      0.80      1000\n",
      "weighted avg       0.97      0.97      0.96      1000\n",
      "\n"
     ]
    }
   ],
   "source": [
    "print(classification_report(y, y_hat1))"
   ]
  },
  {
   "cell_type": "code",
   "execution_count": 19,
   "metadata": {},
   "outputs": [
    {
     "name": "stdout",
     "output_type": "stream",
     "text": [
      "              precision    recall  f1-score   support\n",
      "\n",
      "           0       0.97      1.00      0.98       943\n",
      "           1       0.90      0.47      0.62        57\n",
      "\n",
      "    accuracy                           0.97      1000\n",
      "   macro avg       0.93      0.74      0.80      1000\n",
      "weighted avg       0.97      0.97      0.96      1000\n",
      "\n"
     ]
    }
   ],
   "source": [
    "print(classification_report(y, y_hat2))"
   ]
  },
  {
   "cell_type": "code",
   "execution_count": 20,
   "metadata": {},
   "outputs": [
    {
     "data": {
      "image/png": "[encoded data removed]",
      "text/plain": [
       "<Figure size 432x288 with 1 Axes>"
      ]
     },
     "metadata": {
      "image/png": {
       "height": 251,
       "width": 375
      }
     },
     "output_type": "display_data"
    }
   ],
   "source": [
    "fpr1, tpr1, thresholds = roc_curve(y, model1.decision_function(X))\n",
    "fpr2, tpr2, thresholds = roc_curve(y, model2.decision_function(X))\n",
    "\n",
    "plt.plot(fpr1, tpr1, 'o-', ms=2, label='Logistic')\n",
    "plt.plot(fpr2, tpr2, 'o-', ms=2, label='Kernel SVM')\n",
    "plt.legend()\n",
    "plt.plot([0,1], [0,1], 'k--')\n",
    "plt.show()"
   ]
  },
  {
   "cell_type": "markdown",
   "metadata": {},
   "source": [
    "## AUC"
   ]
  },
  {
   "cell_type": "code",
   "execution_count": 21,
   "metadata": {},
   "outputs": [
    {
     "data": {
      "text/plain": [
       "(0.9112202563673234, 0.9037227214377407)"
      ]
     },
     "execution_count": 21,
     "metadata": {},
     "output_type": "execute_result"
    }
   ],
   "source": [
    "from sklearn.metrics import auc\n",
    "auc(fpr1, tpr1), auc(fpr2, tpr2)"
   ]
  },
  {
   "cell_type": "markdown",
   "metadata": {},
   "source": [
    "## 다중 클래스 문제"
   ]
  },
  {
   "cell_type": "markdown",
   "metadata": {},
   "source": [
    "- 각각의 클래스에 대해 OvR문제를 가정하고 각각의 OvR문제에 대해 ROC 커브를 그린다."
   ]
  },
  {
   "cell_type": "code",
   "execution_count": 22,
   "metadata": {},
   "outputs": [
    {
     "data": {
      "image/png": "[encoded data removed]",
      "text/plain": [
       "<Figure size 432x288 with 1 Axes>"
      ]
     },
     "metadata": {
      "image/png": {
       "height": 267,
       "width": 391
      }
     },
     "output_type": "display_data"
    }
   ],
   "source": [
    "from sklearn.naive_bayes import GaussianNB\n",
    "from sklearn.datasets import load_iris\n",
    "from sklearn.preprocessing import label_binarize\n",
    "\n",
    "iris = load_iris()\n",
    "X = iris.data\n",
    "y = label_binarize(iris.target, [0, 1, 2])\n",
    "\n",
    "fpr = [None] * 3\n",
    "tpr = [None] * 3\n",
    "thr = [None] * 3\n",
    "\n",
    "for i in range(3):\n",
    "    model = GaussianNB().fit(X, y[:, i])\n",
    "    fpr[i], tpr[i], thr[i] = roc_curve(y[:, i], model.predict_proba(X)[:, 1])\n",
    "    plt.plot(fpr[i], tpr[i])\n",
    "\n",
    "plt.xlabel('위양성률(Fall-Out)')\n",
    "plt.ylabel('재현률(Recall)')\n",
    "plt.show()"
   ]
  },
  {
   "cell_type": "code",
   "execution_count": 25,
   "metadata": {},
   "outputs": [],
   "source": [
    "model = GaussianNB().fit(X, y[:, 0])"
   ]
  },
  {
   "cell_type": "code",
   "execution_count": 26,
   "metadata": {},
   "outputs": [
    {
     "data": {
      "text/plain": [
       "array([[6.71160012e-010, 9.99999999e-001],\n",
       "       [4.00302403e-009, 9.99999996e-001],\n",
       "       [1.02351870e-009, 9.99999999e-001],\n",
       "       [2.76121831e-009, 9.99999997e-001],\n",
       "       [2.87820863e-010, 1.00000000e+000],\n",
       "       [3.55110797e-008, 9.99999964e-001],\n",
       "       [9.66021894e-010, 9.99999999e-001],\n",
       "       [1.30959533e-009, 9.99999999e-001],\n",
       "       [4.08140312e-009, 9.99999996e-001],\n",
       "       [4.28674522e-009, 9.99999996e-001],\n",
       "       [1.33377359e-009, 9.99999999e-001],\n",
       "       [1.84532267e-009, 9.99999998e-001],\n",
       "       [3.38128619e-009, 9.99999997e-001],\n",
       "       [5.20232440e-009, 9.99999995e-001],\n",
       "       [1.87082925e-009, 9.99999998e-001],\n",
       "       [1.24819214e-009, 9.99999999e-001],\n",
       "       [2.81930547e-009, 9.99999997e-001],\n",
       "       [1.54701681e-009, 9.99999998e-001],\n",
       "       [7.33966195e-008, 9.99999927e-001],\n",
       "       [4.73129136e-010, 1.00000000e+000],\n",
       "       [4.45844705e-008, 9.99999955e-001],\n",
       "       [4.58044453e-009, 9.99999995e-001],\n",
       "       [5.68754049e-010, 9.99999999e-001],\n",
       "       [3.23988692e-006, 9.99996760e-001],\n",
       "       [1.39641059e-007, 9.99999860e-001],\n",
       "       [1.83453526e-008, 9.99999982e-001],\n",
       "       [3.65165447e-008, 9.99999963e-001],\n",
       "       [1.56322356e-009, 9.99999998e-001],\n",
       "       [1.62717265e-009, 9.99999998e-001],\n",
       "       [4.21218256e-009, 9.99999996e-001],\n",
       "       [7.58667096e-009, 9.99999992e-001],\n",
       "       [8.28155076e-008, 9.99999917e-001],\n",
       "       [4.87996004e-011, 1.00000000e+000],\n",
       "       [6.74800449e-011, 1.00000000e+000],\n",
       "       [4.16954875e-009, 9.99999996e-001],\n",
       "       [2.19954663e-009, 9.99999998e-001],\n",
       "       [3.68284192e-009, 9.99999996e-001],\n",
       "       [2.29157404e-010, 1.00000000e+000],\n",
       "       [2.33444890e-009, 9.99999998e-001],\n",
       "       [1.79409824e-009, 9.99999998e-001],\n",
       "       [9.73835050e-010, 9.99999999e-001],\n",
       "       [5.98958216e-008, 9.99999940e-001],\n",
       "       [9.66496167e-010, 9.99999999e-001],\n",
       "       [8.69251361e-006, 9.99991307e-001],\n",
       "       [4.33115769e-007, 9.99999567e-001],\n",
       "       [7.58075174e-009, 9.99999992e-001],\n",
       "       [4.54587834e-010, 1.00000000e+000],\n",
       "       [1.09752810e-009, 9.99999999e-001],\n",
       "       [8.15317332e-010, 9.99999999e-001],\n",
       "       [1.33589188e-009, 9.99999999e-001],\n",
       "       [1.00000000e+000, 1.06857205e-109],\n",
       "       [1.00000000e+000, 6.21929944e-102],\n",
       "       [1.00000000e+000, 5.95805983e-124],\n",
       "       [1.00000000e+000, 4.96081507e-070],\n",
       "       [1.00000000e+000, 1.01443079e-107],\n",
       "       [1.00000000e+000, 1.44947298e-090],\n",
       "       [1.00000000e+000, 9.41447938e-116],\n",
       "       [1.00000000e+000, 1.40878104e-034],\n",
       "       [1.00000000e+000, 9.94122923e-099],\n",
       "       [1.00000000e+000, 1.33364660e-069],\n",
       "       [1.00000000e+000, 4.99612563e-041],\n",
       "       [1.00000000e+000, 2.21317195e-087],\n",
       "       [1.00000000e+000, 1.58989684e-060],\n",
       "       [1.00000000e+000, 1.46204910e-105],\n",
       "       [1.00000000e+000, 2.20068846e-055],\n",
       "       [1.00000000e+000, 2.04691481e-094],\n",
       "       [1.00000000e+000, 2.85937116e-099],\n",
       "       [1.00000000e+000, 5.31689772e-063],\n",
       "       [1.00000000e+000, 1.39773650e-102],\n",
       "       [1.00000000e+000, 1.78932098e-058],\n",
       "       [1.00000000e+000, 9.14854950e-131],\n",
       "       [1.00000000e+000, 2.72683804e-071],\n",
       "       [1.00000000e+000, 9.83679110e-122],\n",
       "       [1.00000000e+000, 3.88698406e-097],\n",
       "       [1.00000000e+000, 1.88514877e-084],\n",
       "       [1.00000000e+000, 4.69482828e-094],\n",
       "       [1.00000000e+000, 4.78843075e-114],\n",
       "       [1.00000000e+000, 6.24357181e-139],\n",
       "       [1.00000000e+000, 9.13368816e-101],\n",
       "       [1.00000000e+000, 8.51014877e-042],\n",
       "       [1.00000000e+000, 9.12551670e-055],\n",
       "       [1.00000000e+000, 5.71434104e-048],\n",
       "       [1.00000000e+000, 1.60533683e-062],\n",
       "       [1.00000000e+000, 8.44274392e-136],\n",
       "       [1.00000000e+000, 9.13750747e-099],\n",
       "       [1.00000000e+000, 5.08376170e-105],\n",
       "       [1.00000000e+000, 5.89826059e-113],\n",
       "       [1.00000000e+000, 3.80996717e-089],\n",
       "       [1.00000000e+000, 4.32983374e-073],\n",
       "       [1.00000000e+000, 9.02901478e-070],\n",
       "       [1.00000000e+000, 8.59054852e-082],\n",
       "       [1.00000000e+000, 1.10712111e-100],\n",
       "       [1.00000000e+000, 2.16865749e-066],\n",
       "       [1.00000000e+000, 8.16887057e-035],\n",
       "       [1.00000000e+000, 1.34722547e-077],\n",
       "       [1.00000000e+000, 2.86432287e-073],\n",
       "       [1.00000000e+000, 1.47554563e-077],\n",
       "       [1.00000000e+000, 1.55173167e-083],\n",
       "       [1.00000000e+000, 2.85291648e-030],\n",
       "       [1.00000000e+000, 9.94943945e-074],\n",
       "       [1.00000000e+000, 1.28688164e-253],\n",
       "       [1.00000000e+000, 4.86015211e-153],\n",
       "       [1.00000000e+000, 5.52499016e-220],\n",
       "       [1.00000000e+000, 9.66374765e-177],\n",
       "       [1.00000000e+000, 1.45895796e-217],\n",
       "       [1.00000000e+000, 2.90145852e-272],\n",
       "       [1.00000000e+000, 1.33814096e-109],\n",
       "       [1.00000000e+000, 2.70101499e-228],\n",
       "       [1.00000000e+000, 9.35073850e-192],\n",
       "       [1.00000000e+000, 8.88153917e-265],\n",
       "       [1.00000000e+000, 8.14870772e-162],\n",
       "       [1.00000000e+000, 2.00017978e-166],\n",
       "       [1.00000000e+000, 2.09464788e-193],\n",
       "       [1.00000000e+000, 1.73044150e-154],\n",
       "       [1.00000000e+000, 2.73434375e-190],\n",
       "       [1.00000000e+000, 1.03194235e-194],\n",
       "       [1.00000000e+000, 1.45235575e-171],\n",
       "       [1.00000000e+000, 2.55683518e-286],\n",
       "       [1.00000000e+000, 5.06032759e-312],\n",
       "       [1.00000000e+000, 5.63778576e-126],\n",
       "       [1.00000000e+000, 4.95216769e-221],\n",
       "       [1.00000000e+000, 1.28040017e-148],\n",
       "       [1.00000000e+000, 8.06738555e-274],\n",
       "       [1.00000000e+000, 2.89953965e-138],\n",
       "       [1.00000000e+000, 2.57442668e-204],\n",
       "       [1.00000000e+000, 1.31802751e-206],\n",
       "       [1.00000000e+000, 1.12177696e-132],\n",
       "       [1.00000000e+000, 6.84029053e-137],\n",
       "       [1.00000000e+000, 1.40258589e-197],\n",
       "       [1.00000000e+000, 1.75064031e-182],\n",
       "       [1.00000000e+000, 8.59036389e-222],\n",
       "       [1.00000000e+000, 2.64666557e-251],\n",
       "       [1.00000000e+000, 4.62185734e-205],\n",
       "       [1.00000000e+000, 1.15739602e-131],\n",
       "       [1.00000000e+000, 1.12676589e-154],\n",
       "       [1.00000000e+000, 5.84198140e-253],\n",
       "       [1.00000000e+000, 1.57035272e-219],\n",
       "       [1.00000000e+000, 7.00542706e-171],\n",
       "       [1.00000000e+000, 1.62375274e-131],\n",
       "       [1.00000000e+000, 5.42202653e-188],\n",
       "       [1.00000000e+000, 3.51252480e-222],\n",
       "       [1.00000000e+000, 1.06417461e-186],\n",
       "       [1.00000000e+000, 4.86015211e-153],\n",
       "       [1.00000000e+000, 4.57498816e-233],\n",
       "       [1.00000000e+000, 1.71389160e-236],\n",
       "       [1.00000000e+000, 4.06234779e-191],\n",
       "       [1.00000000e+000, 4.86093394e-150],\n",
       "       [1.00000000e+000, 1.33253783e-167],\n",
       "       [1.00000000e+000, 4.60036792e-199],\n",
       "       [1.00000000e+000, 1.62597097e-146]])"
      ]
     },
     "execution_count": 26,
     "metadata": {},
     "output_type": "execute_result"
    }
   ],
   "source": [
    "model.predict_proba(X)"
   ]
  },
  {
   "cell_type": "code",
   "execution_count": 24,
   "metadata": {},
   "outputs": [
    {
     "data": {
      "text/plain": [
       "array([0, 0, 0, 0, 0, 0, 0, 0, 0, 0, 0, 0, 0, 0, 0, 0, 0, 0, 0, 0, 0, 0,\n",
       "       0, 0, 0, 0, 0, 0, 0, 0, 0, 0, 0, 0, 0, 0, 0, 0, 0, 0, 0, 0, 0, 0,\n",
       "       0, 0, 0, 0, 0, 0, 1, 1, 1, 1, 1, 1, 1, 1, 1, 1, 1, 1, 1, 1, 1, 1,\n",
       "       1, 1, 1, 1, 1, 1, 1, 1, 1, 1, 1, 1, 1, 1, 1, 1, 1, 1, 1, 1, 1, 1,\n",
       "       1, 1, 1, 1, 1, 1, 1, 1, 1, 1, 1, 1, 2, 2, 2, 2, 2, 2, 2, 2, 2, 2,\n",
       "       2, 2, 2, 2, 2, 2, 2, 2, 2, 2, 2, 2, 2, 2, 2, 2, 2, 2, 2, 2, 2, 2,\n",
       "       2, 2, 2, 2, 2, 2, 2, 2, 2, 2, 2, 2, 2, 2, 2, 2, 2, 2])"
      ]
     },
     "execution_count": 24,
     "metadata": {},
     "output_type": "execute_result"
    }
   ],
   "source": [
    "iris.target"
   ]
  },
  {
   "cell_type": "code",
   "execution_count": null,
   "metadata": {},
   "outputs": [],
   "source": []
  }
 ],
 "metadata": {
  "kernelspec": {
   "display_name": "Python 3",
   "language": "python",
   "name": "python3"
  },
  "language_info": {
   "codemirror_mode": {
    "name": "ipython",
    "version": 3
   },
   "file_extension": ".py",
   "mimetype": "text/x-python",
   "name": "python",
   "nbconvert_exporter": "python",
   "pygments_lexer": "ipython3",
   "version": "3.8.3"
  },
  "toc": {
   "base_numbering": 1,
   "nav_menu": {},
   "number_sections": true,
   "sideBar": true,
   "skip_h1_title": false,
   "title_cell": "Table of Contents",
   "title_sidebar": "Contents",
   "toc_cell": false,
   "toc_position": {},
   "toc_section_display": true,
   "toc_window_display": false
  },
  "varInspector": {
   "cols": {
    "lenName": 16,
    "lenType": 16,
    "lenVar": 40
   },
   "kernels_config": {
    "python": {
     "delete_cmd_postfix": "",
     "delete_cmd_prefix": "del ",
     "library": "var_list.py",
     "varRefreshCmd": "print(var_dic_list())"
    },
    "r": {
     "delete_cmd_postfix": ") ",
     "delete_cmd_prefix": "rm(",
     "library": "var_list.r",
     "varRefreshCmd": "cat(var_dic_list()) "
    }
   },
   "types_to_exclude": [
    "module",
    "function",
    "builtin_function_or_method",
    "instance",
    "_Feature"
   ],
   "window_display": false
  }
 },
 "nbformat": 4,
 "nbformat_minor": 4
}
